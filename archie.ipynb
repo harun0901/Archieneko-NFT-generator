{
 "cells": [
  {
   "cell_type": "code",
   "execution_count": 2,
   "metadata": {},
   "outputs": [],
   "source": [
    "from PIL import Image, ImageOps\n",
    "from IPython.display import display\n",
    "import random\n",
    "import json\n",
    "from dotenv import load_dotenv\n",
    "\n",
    "load_dotenv()"
   ]
  },
  {
   "cell_type": "code",
   "execution_count": null,
   "metadata": {},
   "outputs": [],
   "source": [
    "metadataRoot = os.environ['METADATA_PATH']\n",
    "f = open(metadataRoot, 'r')\n",
    "rawMeta = f.read()\n",
    "f.close()\n",
    "meta = json.loads(rawMeta)\n",
    "attributes = {}\n",
    "for nft in meta:\n",
    "    for attribute in nft['attributes']:\n",
    "        trait_type = attribute['trait_type']\n",
    "        trait_value = attribute['value']\n",
    "        if trait_type in attributes and trait_value not in attributes[trait_type]:\n",
    "            attributes[trait_type].append(trait_value)\n",
    "        else:\n",
    "            attributes[trait_type] = [trait_value]"
   ]
  },
  {
   "cell_type": "code",
   "execution_count": null,
   "metadata": {},
   "outputs": [],
   "source": [
    "#### IMAGE GENERATION\n",
    "\n",
    "def attributeValue(meta, type):\n",
    "    for attribute in meta['attributes']:\n",
    "        if attribute['trait_type'] == type:\n",
    "            return attribute['value']\n",
    "\n",
    "ASSET_ROOT = os.environ['ASSET_ROOT']\n",
    "IMAGE_OUTPUT = os.environ['IMAGE_OUTPUT']\n",
    "width = 3000\n",
    "for item in meta:\n",
    "    background = Image.open(f\"{ASSET_ROOT}Background/{attributeValue(item, 'Background')}.png\").resize((width, width), Image.NEAREST).convert('RGBA')\n",
    "    skin = Image.open(f\"{ASSET_ROOT}skin/{attributeValue(item, 'skin')}.png\").resize((width, width), Image.NEAREST).convert('RGBA')\n",
    "    footwear = Image.open(f\"{ASSET_ROOT}footwear/{attributeValue(item, 'footwear')}.png\").resize((width, width), Image.NEAREST).convert('RGBA')\n",
    "    clothes = Image.open(f\"{ASSET_ROOT}clothes/{attributeValue(item, 'clothes')}.png\").resize((width, width), Image.NEAREST).convert('RGBA')\n",
    "    neck = Image.open(f\"{ASSET_ROOT}neck/{attributeValue(item, 'neck')}.png\").resize((width, width), Image.NEAREST).convert('RGBA')\n",
    "    eye = Image.open(f\"{ASSET_ROOT}eye/{attributeValue(item, 'eye')}.png\").resize((width, width), Image.NEAREST).convert('RGBA')\n",
    "    mouth = Image.open(f\"{ASSET_ROOT}mouth/{attributeValue(item, 'mouth')}.png\").resize((width, width), Image.NEAREST).convert('RGBA')\n",
    "    facewear = Image.open(f\"{ASSET_ROOT}facewear/{attributeValue(item, 'facewear')}.png\").resize((width, width), Image.NEAREST).convert('RGBA')\n",
    "    accessories = Image.open(f\"{ASSET_ROOT}accessories/{attributeValue(item, 'accessories')}.png\").resize((width, width), Image.NEAREST).convert('RGBA')\n",
    "    headwear = Image.open(f\"{ASSET_ROOT}headwear/{attributeValue(item, 'headwear')}.png\").resize((width, width), Image.NEAREST).convert('RGBA')\n",
    "\n",
    "    #Create each composite\n",
    "    com1 = Image.alpha_composite(background, skin)\n",
    "    com2 = Image.alpha_composite(com1, footwear)\n",
    "    com3 = Image.alpha_composite(com2, clothes)\n",
    "    com4 = Image.alpha_composite(com3, neck)\n",
    "    com5 = Image.alpha_composite(com4, eye)\n",
    "    com6 = Image.alpha_composite(com5, mouth)\n",
    "    com7 = Image.alpha_composite(com6, facewear)\n",
    "    com8 = Image.alpha_composite(com7, accessories)\n",
    "    com9 = Image.alpha_composite(com8, headwear)\n",
    "\n",
    "    #Convert to RGB\n",
    "    rgb_im = com9.convert('RGB')\n",
    "#     display(rgb_im.resize((400,400), Image.NEAREST))\n",
    "\n",
    "    file_name = str(item[\"edition\"]) + \".jpg\"\n",
    "    rgb_im.save(f\"{IMAGE_OUTPUT}{file_name}\")\n",
    "    print(f'generated {file_name}')\n"
   ]
  },
  {
   "cell_type": "code",
   "execution_count": null,
   "metadata": {},
   "outputs": [],
   "source": [
    "# with open('traitsfinal.json', 'w') as outfile:\n",
    "#     json.dump(traits, outfile, indent=4)"
   ]
  }
 ],
 "metadata": {
  "kernelspec": {
   "display_name": "Python 3",
   "language": "python",
   "name": "python3"
  },
  "language_info": {
   "codemirror_mode": {
    "name": "ipython",
    "version": 3
   },
   "file_extension": ".py",
   "mimetype": "text/x-python",
   "name": "python",
   "nbconvert_exporter": "python",
   "pygments_lexer": "ipython3",
   "version": "3.9.7"
  }
 },
 "nbformat": 4,
 "nbformat_minor": 4
}
